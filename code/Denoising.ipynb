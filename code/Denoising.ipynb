{
 "cells": [
  {
   "cell_type": "code",
   "execution_count": 13,
   "id": "a3f0721e",
   "metadata": {},
   "outputs": [],
   "source": [
    "# importing libraries\n",
    "import os\n",
    "import numpy as np\n",
    "import cv2\n",
    "from matplotlib import pyplot as plt\n",
    "\n",
    "if not os.path.exists(\"train_set_de\"):\n",
    "    os.mkdir(\"train_set_de\")\n",
    "    \n",
    "file_names = os.listdir(\"train_set\")\n",
    "\n",
    "for file_name in file_names:\n",
    "    img = cv2.imread(\"./train_set/\"+file_name)\n",
    "    dst = cv2.fastNlMeansDenoising(img, h=15)\n",
    "    cv2.imwrite(\"train_set_de/\"+file_name, dst)"
   ]
  },
  {
   "cell_type": "code",
   "execution_count": null,
   "id": "5f82bb5c",
   "metadata": {},
   "outputs": [],
   "source": []
  }
 ],
 "metadata": {
  "kernelspec": {
   "display_name": "Python 3 (ipykernel)",
   "language": "python",
   "name": "python3"
  },
  "language_info": {
   "codemirror_mode": {
    "name": "ipython",
    "version": 3
   },
   "file_extension": ".py",
   "mimetype": "text/x-python",
   "name": "python",
   "nbconvert_exporter": "python",
   "pygments_lexer": "ipython3",
   "version": "3.7.11"
  }
 },
 "nbformat": 4,
 "nbformat_minor": 5
}
